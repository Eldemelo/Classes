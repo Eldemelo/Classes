{
 "cells": [
  {
   "cell_type": "code",
   "execution_count": 36,
   "metadata": {},
   "outputs": [],
   "source": [
    "# Homework 9: SVM and MLP Model Comparison\n",
    "\n",
    "## Ethan DeMelo "
   ]
  },
  {
   "cell_type": "code",
   "execution_count": 37,
   "metadata": {},
   "outputs": [
    {
     "data": {
      "text/html": [
       "<div>\n",
       "<style scoped>\n",
       "    .dataframe tbody tr th:only-of-type {\n",
       "        vertical-align: middle;\n",
       "    }\n",
       "\n",
       "    .dataframe tbody tr th {\n",
       "        vertical-align: top;\n",
       "    }\n",
       "\n",
       "    .dataframe thead th {\n",
       "        text-align: right;\n",
       "    }\n",
       "</style>\n",
       "<table border=\"1\" class=\"dataframe\">\n",
       "  <thead>\n",
       "    <tr style=\"text-align: right;\">\n",
       "      <th></th>\n",
       "      <th>rownames</th>\n",
       "      <th>ID</th>\n",
       "      <th>nrAdvE</th>\n",
       "      <th>BMI</th>\n",
       "      <th>height</th>\n",
       "      <th>country</th>\n",
       "      <th>sex</th>\n",
       "      <th>age</th>\n",
       "      <th>weight</th>\n",
       "      <th>treat</th>\n",
       "    </tr>\n",
       "  </thead>\n",
       "  <tbody>\n",
       "    <tr>\n",
       "      <th>0</th>\n",
       "      <td>1</td>\n",
       "      <td>19908</td>\n",
       "      <td>4</td>\n",
       "      <td>25.22</td>\n",
       "      <td>163</td>\n",
       "      <td>c1</td>\n",
       "      <td>F</td>\n",
       "      <td>47</td>\n",
       "      <td>67</td>\n",
       "      <td>placebo</td>\n",
       "    </tr>\n",
       "    <tr>\n",
       "      <th>1</th>\n",
       "      <td>2</td>\n",
       "      <td>19909</td>\n",
       "      <td>4</td>\n",
       "      <td>23.80</td>\n",
       "      <td>164</td>\n",
       "      <td>c1</td>\n",
       "      <td>F</td>\n",
       "      <td>53</td>\n",
       "      <td>64</td>\n",
       "      <td>d1</td>\n",
       "    </tr>\n",
       "    <tr>\n",
       "      <th>2</th>\n",
       "      <td>3</td>\n",
       "      <td>19910</td>\n",
       "      <td>1</td>\n",
       "      <td>23.05</td>\n",
       "      <td>164</td>\n",
       "      <td>c1</td>\n",
       "      <td>F</td>\n",
       "      <td>68</td>\n",
       "      <td>62</td>\n",
       "      <td>placebo</td>\n",
       "    </tr>\n",
       "    <tr>\n",
       "      <th>3</th>\n",
       "      <td>4</td>\n",
       "      <td>20908</td>\n",
       "      <td>1</td>\n",
       "      <td>25.71</td>\n",
       "      <td>165</td>\n",
       "      <td>c1</td>\n",
       "      <td>F</td>\n",
       "      <td>48</td>\n",
       "      <td>70</td>\n",
       "      <td>d2</td>\n",
       "    </tr>\n",
       "    <tr>\n",
       "      <th>4</th>\n",
       "      <td>5</td>\n",
       "      <td>20909</td>\n",
       "      <td>2</td>\n",
       "      <td>25.95</td>\n",
       "      <td>170</td>\n",
       "      <td>c1</td>\n",
       "      <td>F</td>\n",
       "      <td>67</td>\n",
       "      <td>75</td>\n",
       "      <td>placebo</td>\n",
       "    </tr>\n",
       "  </tbody>\n",
       "</table>\n",
       "</div>"
      ],
      "text/plain": [
       "   rownames   ID      nrAdvE   BMI     height   country   sex   age   weight   \\\n",
       "0          1   19908        4   25.22      163  c1        F       47       67   \n",
       "1          2   19909        4   23.80      164  c1        F       53       64   \n",
       "2          3   19910        1   23.05      164  c1        F       68       62   \n",
       "3          4   20908        1   25.71      165  c1        F       48       70   \n",
       "4          5   20909        2   25.95      170  c1        F       67       75   \n",
       "\n",
       "     treat  \n",
       "0  placebo  \n",
       "1       d1  \n",
       "2  placebo  \n",
       "3       d2  \n",
       "4  placebo  "
      ]
     },
     "execution_count": 37,
     "metadata": {},
     "output_type": "execute_result"
    }
   ],
   "source": [
    "# set up\n",
    "import pandas as pd\n",
    "import numpy as np\n",
    "np.set_printoptions(formatter={'float_kind':\"{:3.2f}\".format})\n",
    "from sklearn.svm import SVC\n",
    "from sklearn.model_selection import cross_val_score\n",
    "from sklearn.metrics import accuracy_score\n",
    "from sklearn.metrics import confusion_matrix\n",
    " #Import accuracy score and balanced accuracy score from model metrics package\n",
    "from sklearn.metrics import accuracy_score,precision_score,recall_score,f1_score, balanced_accuracy_score\n",
    "from sklearn.metrics import confusion_matrix,  roc_auc_score\n",
    "\n",
    "df = pd.read_csv(\"https://raw.githubusercontent.com/Eldemelo/Classes/Development/CSC310/Homework/homework_8/CrohnD.csv\")\n",
    "df.head()"
   ]
  },
  {
   "cell_type": "code",
   "execution_count": 38,
   "metadata": {},
   "outputs": [
    {
     "data": {
      "text/html": [
       "<div>\n",
       "<style scoped>\n",
       "    .dataframe tbody tr th:only-of-type {\n",
       "        vertical-align: middle;\n",
       "    }\n",
       "\n",
       "    .dataframe tbody tr th {\n",
       "        vertical-align: top;\n",
       "    }\n",
       "\n",
       "    .dataframe thead th {\n",
       "        text-align: right;\n",
       "    }\n",
       "</style>\n",
       "<table border=\"1\" class=\"dataframe\">\n",
       "  <thead>\n",
       "    <tr style=\"text-align: right;\">\n",
       "      <th></th>\n",
       "      <th>rownames</th>\n",
       "      <th>ID</th>\n",
       "      <th>nrAdvE</th>\n",
       "      <th>BMI</th>\n",
       "      <th>height</th>\n",
       "      <th>country</th>\n",
       "      <th>sex</th>\n",
       "      <th>age</th>\n",
       "      <th>weight</th>\n",
       "      <th>treat</th>\n",
       "    </tr>\n",
       "  </thead>\n",
       "  <tbody>\n",
       "    <tr>\n",
       "      <th>0</th>\n",
       "      <td>1</td>\n",
       "      <td>19908</td>\n",
       "      <td>4</td>\n",
       "      <td>25.22</td>\n",
       "      <td>163</td>\n",
       "      <td>0</td>\n",
       "      <td>0</td>\n",
       "      <td>47</td>\n",
       "      <td>67</td>\n",
       "      <td>placebo</td>\n",
       "    </tr>\n",
       "    <tr>\n",
       "      <th>1</th>\n",
       "      <td>2</td>\n",
       "      <td>19909</td>\n",
       "      <td>4</td>\n",
       "      <td>23.80</td>\n",
       "      <td>164</td>\n",
       "      <td>0</td>\n",
       "      <td>0</td>\n",
       "      <td>53</td>\n",
       "      <td>64</td>\n",
       "      <td>d1</td>\n",
       "    </tr>\n",
       "    <tr>\n",
       "      <th>2</th>\n",
       "      <td>3</td>\n",
       "      <td>19910</td>\n",
       "      <td>1</td>\n",
       "      <td>23.05</td>\n",
       "      <td>164</td>\n",
       "      <td>0</td>\n",
       "      <td>0</td>\n",
       "      <td>68</td>\n",
       "      <td>62</td>\n",
       "      <td>placebo</td>\n",
       "    </tr>\n",
       "    <tr>\n",
       "      <th>3</th>\n",
       "      <td>4</td>\n",
       "      <td>20908</td>\n",
       "      <td>1</td>\n",
       "      <td>25.71</td>\n",
       "      <td>165</td>\n",
       "      <td>0</td>\n",
       "      <td>0</td>\n",
       "      <td>48</td>\n",
       "      <td>70</td>\n",
       "      <td>d2</td>\n",
       "    </tr>\n",
       "    <tr>\n",
       "      <th>4</th>\n",
       "      <td>5</td>\n",
       "      <td>20909</td>\n",
       "      <td>2</td>\n",
       "      <td>25.95</td>\n",
       "      <td>170</td>\n",
       "      <td>0</td>\n",
       "      <td>0</td>\n",
       "      <td>67</td>\n",
       "      <td>75</td>\n",
       "      <td>placebo</td>\n",
       "    </tr>\n",
       "  </tbody>\n",
       "</table>\n",
       "</div>"
      ],
      "text/plain": [
       "   rownames   ID      nrAdvE   BMI     height  country  sex   age   weight   \\\n",
       "0          1   19908        4   25.22      163        0    0    47       67   \n",
       "1          2   19909        4   23.80      164        0    0    53       64   \n",
       "2          3   19910        1   23.05      164        0    0    68       62   \n",
       "3          4   20908        1   25.71      165        0    0    48       70   \n",
       "4          5   20909        2   25.95      170        0    0    67       75   \n",
       "\n",
       "     treat  \n",
       "0  placebo  \n",
       "1       d1  \n",
       "2  placebo  \n",
       "3       d2  \n",
       "4  placebo  "
      ]
     },
     "execution_count": 38,
     "metadata": {},
     "output_type": "execute_result"
    }
   ],
   "source": [
    "# Clean Data\n",
    "df['country '] = df['country '].str.strip().replace('c1', '0')\n",
    "df['country '] = df['country '].str.strip().replace('c2', '1')\n",
    "df['sex '] = df['sex '].str.strip().replace('F', '0')\n",
    "df['sex '] = df['sex '].str.strip().replace('M', '1')\n",
    "\n",
    "df.head()"
   ]
  },
  {
   "cell_type": "markdown",
   "metadata": {},
   "source": [
    "Kernel: Linear"
   ]
  },
  {
   "cell_type": "code",
   "execution_count": 39,
   "metadata": {},
   "outputs": [],
   "source": [
    "df = df.drop(['rownames '],axis=1)\n",
    "X  = df.drop(['treat'],axis=1)\n",
    "y = df['treat']\n",
    "\n",
    "model = SVC(kernel='linear', C=0.001, max_iter=10000)"
   ]
  },
  {
   "cell_type": "code",
   "execution_count": 40,
   "metadata": {},
   "outputs": [
    {
     "name": "stdout",
     "output_type": "stream",
     "text": [
      "Fold Accuracies: [0.42 0.33 0.26 0.26 0.35]\n",
      "Accuracy: 0.32\n"
     ]
    },
    {
     "name": "stderr",
     "output_type": "stream",
     "text": [
      "d:\\Program Files (x86)\\Python\\lib\\site-packages\\sklearn\\svm\\_base.py:297: ConvergenceWarning: Solver terminated early (max_iter=10000).  Consider pre-processing your data with StandardScaler or MinMaxScaler.\n",
      "  warnings.warn(\n",
      "d:\\Program Files (x86)\\Python\\lib\\site-packages\\sklearn\\svm\\_base.py:297: ConvergenceWarning: Solver terminated early (max_iter=10000).  Consider pre-processing your data with StandardScaler or MinMaxScaler.\n",
      "  warnings.warn(\n",
      "d:\\Program Files (x86)\\Python\\lib\\site-packages\\sklearn\\svm\\_base.py:297: ConvergenceWarning: Solver terminated early (max_iter=10000).  Consider pre-processing your data with StandardScaler or MinMaxScaler.\n",
      "  warnings.warn(\n",
      "d:\\Program Files (x86)\\Python\\lib\\site-packages\\sklearn\\svm\\_base.py:297: ConvergenceWarning: Solver terminated early (max_iter=10000).  Consider pre-processing your data with StandardScaler or MinMaxScaler.\n",
      "  warnings.warn(\n",
      "d:\\Program Files (x86)\\Python\\lib\\site-packages\\sklearn\\svm\\_base.py:297: ConvergenceWarning: Solver terminated early (max_iter=10000).  Consider pre-processing your data with StandardScaler or MinMaxScaler.\n",
      "  warnings.warn(\n"
     ]
    }
   ],
   "source": [
    "# do the 5-fold cross validation\n",
    "scores = cross_val_score(model, X, y, cv=5)\n",
    "print(\"Fold Accuracies: {}\".format(scores))\n",
    "print(\"Accuracy: {:3.2f}\".format(scores.mean()))"
   ]
  },
  {
   "cell_type": "markdown",
   "metadata": {},
   "source": [
    "Kernel: Polynomial"
   ]
  },
  {
   "cell_type": "code",
   "execution_count": 41,
   "metadata": {},
   "outputs": [
    {
     "name": "stdout",
     "output_type": "stream",
     "text": [
      "Fold Accuracies: [0.33 0.33 0.30 0.30 0.30]\n",
      "Accuracy: 0.32\n"
     ]
    }
   ],
   "source": [
    "df = pd.read_csv(\"https://raw.githubusercontent.com/Eldemelo/Classes/Development/CSC310/Homework/homework_8/CrohnD.csv\")\n",
    "\n",
    "# Clean Data\n",
    "df['country '] = df['country '].str.strip().replace('c1', '0')\n",
    "df['country '] = df['country '].str.strip().replace('c2', '1')\n",
    "df['sex '] = df['sex '].str.strip().replace('F', '0')\n",
    "df['sex '] = df['sex '].str.strip().replace('M', '1')\n",
    "\n",
    "df = df.drop(['rownames '],axis=1)\n",
    "X  = df.drop(['treat'],axis=1)\n",
    "y = df['treat']\n",
    "\n",
    "model = SVC(kernel='poly', degree=2, coef0=0.9)\n",
    "\n",
    "# do the 5-fold cross validation\n",
    "scores = cross_val_score(model, X, y, cv=5)\n",
    "print(\"Fold Accuracies: {}\".format(scores))\n",
    "print(\"Accuracy: {:3.2f}\".format(scores.mean()))"
   ]
  },
  {
   "cell_type": "markdown",
   "metadata": {},
   "source": [
    "Kernel: rbf"
   ]
  },
  {
   "cell_type": "code",
   "execution_count": 61,
   "metadata": {},
   "outputs": [
    {
     "name": "stdout",
     "output_type": "stream",
     "text": [
      "Fold Accuracies: [0.33 0.33 0.30 0.30 0.30]\n",
      "Accuracy: 0.32\n"
     ]
    }
   ],
   "source": [
    "df = pd.read_csv(\"https://raw.githubusercontent.com/Eldemelo/Classes/Development/CSC310/Homework/homework_8/CrohnD.csv\")\n",
    "\n",
    "# Clean Data\n",
    "df['country '] = df['country '].str.strip().replace('c1', '0')\n",
    "df['country '] = df['country '].str.strip().replace('c2', '1')\n",
    "df['sex '] = df['sex '].str.strip().replace('F', '0')\n",
    "df['sex '] = df['sex '].str.strip().replace('M', '1')\n",
    "\n",
    "df = df.drop(['rownames '],axis=1)\n",
    "X  = df.drop(['treat'],axis=1)\n",
    "y = df['treat']\n",
    "\n",
    "model = SVC(kernel='rbf', gamma='scale')\n",
    "\n",
    "# do the 5-fold cross validation\n",
    "scores = cross_val_score(model, X, y, cv=5)\n",
    "print(\"Fold Accuracies: {}\".format(scores))\n",
    "print(\"Accuracy: {:3.2f}\".format(scores.mean()))"
   ]
  },
  {
   "cell_type": "markdown",
   "metadata": {},
   "source": [
    "Kernel: Sigmoid"
   ]
  },
  {
   "cell_type": "code",
   "execution_count": 60,
   "metadata": {},
   "outputs": [
    {
     "name": "stdout",
     "output_type": "stream",
     "text": [
      "Fold Accuracies: [0.33 0.54 0.30 0.30 0.30]\n",
      "Accuracy: 0.36\n"
     ]
    }
   ],
   "source": [
    "df = pd.read_csv(\"https://raw.githubusercontent.com/Eldemelo/Classes/Development/CSC310/Homework/homework_8/CrohnD.csv\")\n",
    "\n",
    "# Clean Data\n",
    "df['country '] = df['country '].str.strip().replace('c1', '0')\n",
    "df['country '] = df['country '].str.strip().replace('c2', '1')\n",
    "df['sex '] = df['sex '].str.strip().replace('F', '0')\n",
    "df['sex '] = df['sex '].str.strip().replace('M', '1')\n",
    "\n",
    "df = df.drop(['rownames '],axis=1)\n",
    "X  = df.drop(['treat'],axis=1)\n",
    "y = df['treat']\n",
    "\n",
    "model = SVC(kernel='sigmoid', gamma='scale', coef0=0.8)\n",
    "\n",
    "# do the 5-fold cross validation\n",
    "scores = cross_val_score(model, X, y, cv=5)\n",
    "print(\"Fold Accuracies: {}\".format(scores))\n",
    "print(\"Accuracy: {:3.2f}\".format(scores.mean()))"
   ]
  },
  {
   "cell_type": "markdown",
   "metadata": {},
   "source": [
    "By tuning the gamma parameter for both poly and sigmoid kernels, I've found that 'scale' yielded the best accuracy.\n",
    "\n",
    "Looking at the 4 models, it appears that for this dataset the sigmoid model is the most accurate at 36%. The other 3 models yielded a 32% accuracy which is slightly worse. Overall, there is a significant difference between sigmoid and the rest, but there is no significant differnce between linear, poly, and rbf."
   ]
  }
 ],
 "metadata": {
  "kernelspec": {
   "display_name": "Python 3",
   "language": "python",
   "name": "python3"
  },
  "language_info": {
   "codemirror_mode": {
    "name": "ipython",
    "version": 3
   },
   "file_extension": ".py",
   "mimetype": "text/x-python",
   "name": "python",
   "nbconvert_exporter": "python",
   "pygments_lexer": "ipython3",
   "version": "3.10.6"
  }
 },
 "nbformat": 4,
 "nbformat_minor": 2
}
