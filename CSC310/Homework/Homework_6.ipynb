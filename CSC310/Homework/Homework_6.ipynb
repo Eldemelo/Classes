{
 "cells": [
  {
   "cell_type": "markdown",
   "metadata": {},
   "source": [
    "# Homework 5\n",
    "\n",
    "## Cross-Validation, Confusion Matrices, and Confidence Intervals\n",
    "\n",
    "<p>\n",
    "The dataset I chose is the iris dataset\n",
    "</p>"
   ]
  },
  {
   "cell_type": "markdown",
   "metadata": {},
   "source": [
    "3 Different models with low, medium, and high complexity"
   ]
  },
  {
   "cell_type": "code",
   "execution_count": 1,
   "metadata": {},
   "outputs": [],
   "source": [
    "import pandas as pd\n",
    "from treeviz import tree_print\n",
    "from sklearn import tree\n",
    "from sklearn.metrics import accuracy_score\n",
    "# sklearn provides manipulation of training sets\n",
    "# here we do train/test split\n",
    "from sklearn.model_selection import train_test_split\n",
    "\n",
    "# set up our sklearn data shape for the iris data\n",
    "df = pd.read_csv(\"https://raw.githubusercontent.com/IndraniMandal/ds-assets/main/assets/iris.csv\")\n",
    "X  = df.drop(['id','Species'],axis=1)\n",
    "y = df['Species']\n",
    "\n",
    "# split the data - 70% training 30% testing\n",
    "datasets = train_test_split(X, y, train_size=0.7, test_size=0.3, random_state=2)\n",
    "(X_train, X_test, y_train, y_test) = datasets"
   ]
  },
  {
   "cell_type": "markdown",
   "metadata": {},
   "source": [
    "Low Complexity Tree:"
   ]
  },
  {
   "cell_type": "code",
   "execution_count": 2,
   "metadata": {},
   "outputs": [
    {
     "name": "stdout",
     "output_type": "stream",
     "text": [
      "if Petal.Length =< 2.350000023841858: \n",
      "  |then setosa\n",
      "  |else virginica\n",
      "<->\n",
      "Tree Depth:  1\n",
      "Train Accuracy: 0.67\n",
      "Test Accuracy: 0.67\n"
     ]
    }
   ],
   "source": [
    "# set up the tree model object \n",
    "model = tree.DecisionTreeClassifier(criterion='entropy', max_depth=1)\n",
    "\n",
    "# fit the model on the training set of data\n",
    "model.fit(X_train, y_train)\n",
    "tree_print(model,X)\n",
    "\n",
    "# Train results: evaluate the model on the testing set of data\n",
    "y_train_model = model.predict(X_train)\n",
    "print(\"Train Accuracy: {:3.2f}\".format(accuracy_score(y_train, y_train_model)))\n",
    "\n",
    "# Test results: evaluate the model on the testing set of data\n",
    "y_test_model = model.predict(X_test)\n",
    "print(\"Test Accuracy: {:3.2f}\".format(accuracy_score(y_test, y_test_model)))"
   ]
  },
  {
   "cell_type": "markdown",
   "metadata": {},
   "source": [
    "Medium Complexity Tree:"
   ]
  },
  {
   "cell_type": "code",
   "execution_count": 3,
   "metadata": {},
   "outputs": [
    {
     "name": "stdout",
     "output_type": "stream",
     "text": [
      "if Petal.Length =< 2.350000023841858: \n",
      "  |then setosa\n",
      "  |else if Petal.Width =< 1.6500000357627869: \n",
      "  |  |then if Petal.Length =< 4.950000047683716: \n",
      "  |  |  |then versicolor\n",
      "  |  |  |else virginica\n",
      "  |  |else if Petal.Length =< 4.8500001430511475: \n",
      "  |  |  |then virginica\n",
      "  |  |  |else virginica\n",
      "<------->\n",
      "Tree Depth:  3\n",
      "Train Accuracy: 0.98\n",
      "Test Accuracy: 0.98\n"
     ]
    }
   ],
   "source": [
    "# set up the tree model object\n",
    "model = tree.DecisionTreeClassifier(criterion='entropy', max_depth=3)\n",
    "\n",
    "# fit the model on the training set of data\n",
    "model.fit(X_train, y_train)\n",
    "tree_print(model,X)\n",
    "\n",
    "# Train results: evaluate the model on the testing set of data\n",
    "y_train_model = model.predict(X_train)\n",
    "print(\"Train Accuracy: {:3.2f}\".format(accuracy_score(y_train, y_train_model)))\n",
    "\n",
    "# Test results: evaluate the model on the testing set of data\n",
    "y_test_model = model.predict(X_test)\n",
    "print(\"Test Accuracy: {:3.2f}\".format(accuracy_score(y_test, y_test_model)))"
   ]
  },
  {
   "cell_type": "markdown",
   "metadata": {},
   "source": [
    "High Complexity Tree:"
   ]
  },
  {
   "cell_type": "code",
   "execution_count": 4,
   "metadata": {},
   "outputs": [
    {
     "name": "stdout",
     "output_type": "stream",
     "text": [
      "if Petal.Width =< 0.800000011920929: \n",
      "  |then setosa\n",
      "  |else if Petal.Width =< 1.6500000357627869: \n",
      "  |  |then if Petal.Length =< 4.950000047683716: \n",
      "  |  |  |then versicolor\n",
      "  |  |  |else if Petal.Width =< 1.550000011920929: \n",
      "  |  |  |  |then virginica\n",
      "  |  |  |  |else versicolor\n",
      "  |  |else if Petal.Length =< 4.8500001430511475: \n",
      "  |  |  |then if Sepal.Width =< 3.100000023841858: \n",
      "  |  |  |  |then virginica\n",
      "  |  |  |  |else versicolor\n",
      "  |  |  |else virginica\n",
      "<---------->\n",
      "Tree Depth:  4\n",
      "Train Accuracy: 1.00\n",
      "Test Accuracy: 0.96\n"
     ]
    }
   ],
   "source": [
    "# set up the tree model object\n",
    "model = tree.DecisionTreeClassifier(criterion='entropy', max_depth=None)\n",
    "\n",
    "# fit the model on the training set of data\n",
    "model.fit(X_train, y_train)\n",
    "tree_print(model,X)\n",
    "\n",
    "# Train results: evaluate the model on the testing set of data\n",
    "y_train_model = model.predict(X_train)\n",
    "print(\"Train Accuracy: {:3.2f}\".format(accuracy_score(y_train, y_train_model)))\n",
    "\n",
    "# Test results: evaluate the model on the testing set of data\n",
    "y_test_model = model.predict(X_test)\n",
    "print(\"Test Accuracy: {:3.2f}\".format(accuracy_score(y_test, y_test_model)))"
   ]
  },
  {
   "cell_type": "markdown",
   "metadata": {},
   "source": [
    "Looking at the three models, we see that they each have the following test accuracies:\n",
    "<ul>\n",
    "<li>low-complexity - 0.67\n",
    "<li>med-complexity - 0.98\n",
    "<li>high-complexity - 0.96\n",
    "</ul><br>\n",
    "\n",
    "Looking at the training accuracyies, we see the following values:\n",
    "<ul>\n",
    "<li>Low-Complexity - 0.67\n",
    "<li>Med-Complexity - 0.98\n",
    "<li>High-Complexity - 1.0\n",
    "</ul><br>\n",
    "From this we can see that the medium complexity model performed the best\n",
    "The low-complexity model was underfitting, the medium and high complexity models were neither over or underfitting."
   ]
  },
  {
   "cell_type": "markdown",
   "metadata": {},
   "source": [
    "Split the dataset"
   ]
  },
  {
   "cell_type": "code",
   "execution_count": 5,
   "metadata": {},
   "outputs": [],
   "source": [
    "import pandas as pd\n",
    "import numpy as np\n",
    "np.set_printoptions(formatter={'float_kind':\"{:3.2f}\".format})\n",
    "from sklearn import tree\n",
    "# import kFold and cross validation score\n",
    "from sklearn.model_selection import KFold, cross_val_score\n",
    "\n",
    "\n",
    "# Get the data\n",
    "df = pd.read_csv(\"https://raw.githubusercontent.com/IndraniMandal/ds-assets/main/assets/iris.csv\")\n",
    "features = df.drop(['id', 'Species'], axis=1)\n",
    "target = df['Species']\n",
    "\n",
    "from sklearn.model_selection import train_test_split\n",
    "X_train, X_test, y_train, y_test = train_test_split(features, target, test_size=0.2, shuffle=True, random_state=42)"
   ]
  },
  {
   "cell_type": "markdown",
   "metadata": {},
   "source": [
    "Model building with cross validation: low-complexity"
   ]
  },
  {
   "cell_type": "code",
   "execution_count": 7,
   "metadata": {},
   "outputs": [
    {
     "name": "stdout",
     "output_type": "stream",
     "text": [
      "Fold Accuracies: [0.50 0.67 0.58 0.71 0.62]\n",
      "Accuracy: 0.62\n"
     ]
    }
   ],
   "source": [
    "# Do the 5-fold cross validation and shuffle the data around\n",
    "cv = KFold(n_splits=5, shuffle = True)\n",
    "\n",
    "# set up the model\n",
    "dtree = tree.DecisionTreeClassifier(criterion='entropy', max_depth=1)\n",
    "\n",
    "# Do the 5-fold cross validation\n",
    "scores = cross_val_score(dtree, X_train, y_train, cv=cv)\n",
    "print(\"Fold Accuracies: {}\".format(scores))\n",
    "print(\"Accuracy: {:3.2f}\".format(scores.mean()))"
   ]
  },
  {
   "cell_type": "markdown",
   "metadata": {},
   "source": [
    "Medium-Complexity"
   ]
  },
  {
   "cell_type": "code",
   "execution_count": 8,
   "metadata": {},
   "outputs": [
    {
     "name": "stdout",
     "output_type": "stream",
     "text": [
      "Fold Accuracies: [0.92 0.96 0.96 0.88 1.00]\n",
      "Accuracy: 0.94\n"
     ]
    }
   ],
   "source": [
    "# Do the 5-fold cross validation and shuffle the data around\n",
    "cv = KFold(n_splits=5, shuffle = True)\n",
    "\n",
    "# set up the model\n",
    "dtree = tree.DecisionTreeClassifier(criterion='entropy', max_depth=3)\n",
    "\n",
    "# Do the 5-fold cross validation\n",
    "scores = cross_val_score(dtree, X_train, y_train, cv=cv)\n",
    "print(\"Fold Accuracies: {}\".format(scores))\n",
    "print(\"Accuracy: {:3.2f}\".format(scores.mean()))"
   ]
  },
  {
   "cell_type": "markdown",
   "metadata": {},
   "source": [
    "High Complexity:"
   ]
  },
  {
   "cell_type": "code",
   "execution_count": 9,
   "metadata": {},
   "outputs": [
    {
     "name": "stdout",
     "output_type": "stream",
     "text": [
      "Fold Accuracies: [0.96 0.92 0.96 0.83 0.88]\n",
      "Accuracy: 0.91\n"
     ]
    }
   ],
   "source": [
    "# Do the 5-fold cross validation and shuffle the data around\n",
    "cv = KFold(n_splits=5, shuffle = True)\n",
    "\n",
    "# set up the model\n",
    "dtree = tree.DecisionTreeClassifier(criterion='entropy', max_depth=5)\n",
    "\n",
    "# Do the 5-fold cross validation\n",
    "scores = cross_val_score(dtree, X_train, y_train, cv=cv)\n",
    "print(\"Fold Accuracies: {}\".format(scores))\n",
    "print(\"Accuracy: {:3.2f}\".format(scores.mean()))"
   ]
  },
  {
   "cell_type": "markdown",
   "metadata": {},
   "source": [
    "Grid search with cross-validation"
   ]
  },
  {
   "cell_type": "code",
   "execution_count": 11,
   "metadata": {},
   "outputs": [
    {
     "name": "stdout",
     "output_type": "stream",
     "text": [
      "Best parameters: {'criterion': 'gini', 'max_depth': 4}\n",
      "Best tree:\n",
      "if Petal.Width =< 0.800000011920929: \n",
      "  |then setosa\n",
      "  |else if Petal.Width =< 1.75: \n",
      "  |  |then if Petal.Length =< 4.950000047683716: \n",
      "  |  |  |then if Petal.Width =< 1.6500000357627869: \n",
      "  |  |  |  |then versicolor\n",
      "  |  |  |  |else virginica\n",
      "  |  |  |else if Petal.Width =< 1.550000011920929: \n",
      "  |  |  |  |then virginica\n",
      "  |  |  |  |else versicolor\n",
      "  |  |else if Petal.Length =< 4.8500001430511475: \n",
      "  |  |  |then if Sepal.Length =< 5.950000047683716: \n",
      "  |  |  |  |then versicolor\n",
      "  |  |  |  |else virginica\n",
      "  |  |  |else virginica\n",
      "<---------->\n",
      "Tree Depth:  4\n",
      "Accuracy of optimal classifier: 0.99\n"
     ]
    }
   ],
   "source": [
    "import pandas as pd\n",
    "from sklearn import tree\n",
    "from sklearn.metrics import accuracy_score\n",
    "from sklearn.model_selection import GridSearchCV\n",
    "\n",
    "# get data\n",
    "df = pd.read_csv('https://raw.githubusercontent.com/IndraniMandal/ds-assets/main/assets/iris.csv')\n",
    "X  = df.drop(['id','Species'],axis=1)\n",
    "y = df['Species']\n",
    "\n",
    "# setting up grid search\n",
    "model = model = tree.DecisionTreeClassifier(random_state=1)\n",
    "param_grid = {\n",
    "    'max_depth': list(range(1,11)), # search 1..10\n",
    "    'criterion': ['entropy', 'gini']\n",
    "    }\n",
    "grid = GridSearchCV(model, param_grid, cv=5)\n",
    "\n",
    "# performing grid search \n",
    "grid.fit(X,y)\n",
    "\n",
    "# print out best parameters\n",
    "print(\"Best parameters: {}\".format(grid.best_params_))\n",
    "\n",
    "# print out the best model\n",
    "print(\"Best tree:\")\n",
    "tree_print(grid.best_estimator_,X)\n",
    "\n",
    "# compute the accuracy of optimal classifier      \n",
    "predict_y = grid.best_estimator_.predict(X)\n",
    "acc = accuracy_score(y, predict_y)\n",
    "\n",
    "# print accuracy          \n",
    "print(\"Accuracy of optimal classifier: {:3.2f}\".format(acc))"
   ]
  },
  {
   "cell_type": "markdown",
   "metadata": {},
   "source": [
    "The best model parameters from grid search are:\n",
    "<ul>\n",
    "<li> criterion : gini\n",
    "<li> max_depth : 4\n",
    "</ul>\n",
    "\n",
    "Confidence Interval Calculations:"
   ]
  },
  {
   "cell_type": "code",
   "execution_count": 17,
   "metadata": {},
   "outputs": [
    {
     "name": "stdout",
     "output_type": "stream",
     "text": [
      "Fold Accuracies: [1.00 0.92 0.88 0.88 1.00]\n",
      "Accuracy: 0.93 (0.84,1.00)\n"
     ]
    }
   ],
   "source": [
    "def classification_confint(acc, n):\n",
    "    '''\n",
    "    Compute the 95% confidence interval for a classification problem.\n",
    "      acc -- classification accuracy\n",
    "      n   -- number of observations used to compute the accuracy\n",
    "    Returns a tuple (lb,ub)\n",
    "    '''\n",
    "    import math\n",
    "    interval = 1.96*math.sqrt(acc*(1-acc)/n)\n",
    "    lb = max(0, acc - interval)\n",
    "    ub = min(1.0, acc + interval)\n",
    "    return (lb,ub)\n",
    "\n",
    "def regression_confint(rs_score, n, k):\n",
    "    '''\n",
    "    Compute the 95% confidence interval for a regression problem.\n",
    "      rs_score -- R^2 score\n",
    "      n        -- number of observations used to compute the R^2 score\n",
    "      k        -- number of independent variables in dataset\n",
    "    Returns a tuple (lb,ub)\n",
    "    Reference:\n",
    "    https://books.google.com/books?id=gkalyqTMXNEC&pg=PA88#v=onepage&q&f=false\n",
    "    '''\n",
    "    import math\n",
    "    interval = 2*math.sqrt((4*rs_score*(1-rs_score)**2*(n-k-1)**2)/((n**2 - 1)*(n+3)))\n",
    "    lb = max(0, rs_score - interval)\n",
    "    ub = min(1.0, rs_score + interval)\n",
    "    return (lb,ub)\n",
    "\n",
    "# cross-validation Iris\n",
    "import pandas as pd\n",
    "import numpy as np\n",
    "np.set_printoptions(formatter={'float_kind':\"{:3.2f}\".format})\n",
    "from sklearn import tree\n",
    "# grab cross validation code\n",
    "from sklearn.model_selection import cross_val_score, KFold,train_test_split \n",
    "\n",
    "# get data\n",
    "url = 'https://raw.githubusercontent.com/IndraniMandal/ds-assets/main/assets/iris.csv' # the URL\n",
    "df = pd.read_csv(url)\n",
    "features  = df.drop(['id','Species'],axis=1)\n",
    "target = df['Species']\n",
    "\n",
    "#splitting the dataset into train and test sets\n",
    "X_train, X_test, y_train, y_test = train_test_split(features, target, train_size=0.8, test_size=0.2, random_state=2)\n",
    "\n",
    "# do the 5-fold cross validation and shuffle the data\n",
    "cv = KFold(n_splits=5,  shuffle = True)\n",
    "\n",
    "# set up the model\n",
    "dtree = tree.DecisionTreeClassifier(criterion='entropy', max_depth=4, random_state=1)\n",
    "\n",
    "dtree.fit(X_train, y_train)\n",
    "\n",
    "pred_test = dtree.predict(X_test)\n",
    "\n",
    "acc = accuracy_score(y_test, pred_test)\n",
    "observations = X_test.shape[0]\n",
    "\n",
    "# do the 5-fold cross validation\n",
    "scores = cross_val_score(dtree, X_train, y_train,cv=cv)\n",
    "print(\"Fold Accuracies: {}\".format(scores))\n",
    "\n",
    "lb,ub = classification_confint(acc, observations)\n",
    "print(\"Accuracy: {:3.2f} ({:3.2f},{:3.2f})\".format(acc,lb,ub))"
   ]
  },
  {
   "cell_type": "markdown",
   "metadata": {},
   "source": [
    "The confidence interval is 0.84 to 1.00\n",
    "\n",
    "The medium complexity model and the grid-search optimal model overlap highly with their cross-validation scores. I would choose the medium-complexity model as it has a higher accuracy at 0.94 whereas the grid-search model is an accuracy of 0.93"
   ]
  }
 ],
 "metadata": {
  "kernelspec": {
   "display_name": "Python 3",
   "language": "python",
   "name": "python3"
  },
  "language_info": {
   "codemirror_mode": {
    "name": "ipython",
    "version": 3
   },
   "file_extension": ".py",
   "mimetype": "text/x-python",
   "name": "python",
   "nbconvert_exporter": "python",
   "pygments_lexer": "ipython3",
   "version": "3.10.6"
  }
 },
 "nbformat": 4,
 "nbformat_minor": 2
}
