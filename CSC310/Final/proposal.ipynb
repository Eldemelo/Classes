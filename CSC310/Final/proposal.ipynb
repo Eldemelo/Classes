{
 "cells": [
  {
   "cell_type": "markdown",
   "metadata": {},
   "source": [
    "# Ethan DeMelo\n",
    "\n",
    "## Project 3 - Individual Project: Data Analysis and Modeling\n",
    "\n",
    "### Proposal:"
   ]
  },
  {
   "cell_type": "markdown",
   "metadata": {},
   "source": [
    "This document will discuss the following:\n",
    "<ul>\n",
    "<li >The data set name and some basic characteristics of the data set\n",
    "<ul>\n",
    "<li>How many rows, how many columns, is there a target label, are the variables mostly numerical or categorical - use the describe function\n",
    "<li>Basic summary statistics in the form of histograms and bargraphs\n",
    "</ul>\n",
    "<li>An outline of the proposed analysis.\n",
    "<ul>\n",
    "<li>What question(s) are you trying to answer with your analysis\n",
    "<li>What kind of ML models of the data are you building? Your final project has to include at least one kind of ML model, e.g. classification, regression, or clustering model and you have to tune the model and report the best possible model. For classification and regression model you will need to also report the 95% confidence interval.\n",
    "<li>What kind of results do you expect to see from the analysis\n",
    "</ul>\n",
    "<li>You have to pick a data set different from any of the previous exercises\n",
    "</ul>"
   ]
  },
  {
   "cell_type": "markdown",
   "metadata": {},
   "source": [
    "<b><u>Dataset:</u></b><br>\n",
    "<b>URL</b> https://vincentarelbundock.github.io/Rdatasets/doc/carData/Highway1.html -|- https://vincentarelbundock.github.io/Rdatasets/csv/carData/Highway1.csv<br>\n",
    "<b>Name:</b> Highway Accidents<br>\n",
    "<b>Description:</b> The data comes from a unpublished master's paper by Carl Hoffstedt. They relate the automobile accident rate, in accidents per million vehicle miles to several potential terms. The data include 39 sections of large highways in the state of Minnesota in 1973. The goal of this analysis was to understand the impact of design variables, Acpts, Slim, Sig, and Shld that are under the control of the highway department, on accidents.<br>\n",
    "<b>Rows: </b>39<br>\n",
    "<b>Columns: </b>13<br>\n",
    "<b>Numerical/Categorical: </b>The variables are mostly numerical<br>"
   ]
  },
  {
   "cell_type": "markdown",
   "metadata": {},
   "source": [
    "<b><u>Outline: </u></b><br>\n",
    "<b>Questions: </b>The goal is to understand how design variables impact the safety of highways in Minnesota in 1973<br>\n",
    "<b>Model Type: </b>Regression model<br>\n",
    "<b>Expected Results: </b>Visualize which variable creates the most variance and what the safest and most optimal values are<br>"
   ]
  },
  {
   "cell_type": "markdown",
   "metadata": {},
   "source": [
    "### Basic Summary Statistics | hisograms / bargraphs"
   ]
  },
  {
   "cell_type": "code",
   "execution_count": 2,
   "metadata": {},
   "outputs": [
    {
     "data": {
      "text/html": [
       "<div>\n",
       "<style scoped>\n",
       "    .dataframe tbody tr th:only-of-type {\n",
       "        vertical-align: middle;\n",
       "    }\n",
       "\n",
       "    .dataframe tbody tr th {\n",
       "        vertical-align: top;\n",
       "    }\n",
       "\n",
       "    .dataframe thead th {\n",
       "        text-align: right;\n",
       "    }\n",
       "</style>\n",
       "<table border=\"1\" class=\"dataframe\">\n",
       "  <thead>\n",
       "    <tr style=\"text-align: right;\">\n",
       "      <th></th>\n",
       "      <th>rownames</th>\n",
       "      <th>rate</th>\n",
       "      <th>len</th>\n",
       "      <th>adt</th>\n",
       "      <th>trks</th>\n",
       "      <th>sigs1</th>\n",
       "      <th>slim</th>\n",
       "      <th>shld</th>\n",
       "      <th>lane</th>\n",
       "      <th>acpt</th>\n",
       "      <th>itg</th>\n",
       "      <th>lwid</th>\n",
       "      <th>htype</th>\n",
       "    </tr>\n",
       "  </thead>\n",
       "  <tbody>\n",
       "    <tr>\n",
       "      <th>0</th>\n",
       "      <td>1</td>\n",
       "      <td>4.58</td>\n",
       "      <td>4.99</td>\n",
       "      <td>69</td>\n",
       "      <td>8</td>\n",
       "      <td>0.200401</td>\n",
       "      <td>55</td>\n",
       "      <td>10</td>\n",
       "      <td>8</td>\n",
       "      <td>4.6</td>\n",
       "      <td>1.20</td>\n",
       "      <td>12</td>\n",
       "      <td>FAI</td>\n",
       "    </tr>\n",
       "    <tr>\n",
       "      <th>1</th>\n",
       "      <td>2</td>\n",
       "      <td>2.86</td>\n",
       "      <td>16.11</td>\n",
       "      <td>73</td>\n",
       "      <td>8</td>\n",
       "      <td>0.062073</td>\n",
       "      <td>60</td>\n",
       "      <td>10</td>\n",
       "      <td>4</td>\n",
       "      <td>4.4</td>\n",
       "      <td>1.43</td>\n",
       "      <td>12</td>\n",
       "      <td>FAI</td>\n",
       "    </tr>\n",
       "    <tr>\n",
       "      <th>2</th>\n",
       "      <td>3</td>\n",
       "      <td>3.02</td>\n",
       "      <td>9.75</td>\n",
       "      <td>49</td>\n",
       "      <td>10</td>\n",
       "      <td>0.102564</td>\n",
       "      <td>60</td>\n",
       "      <td>10</td>\n",
       "      <td>4</td>\n",
       "      <td>4.7</td>\n",
       "      <td>1.54</td>\n",
       "      <td>12</td>\n",
       "      <td>FAI</td>\n",
       "    </tr>\n",
       "    <tr>\n",
       "      <th>3</th>\n",
       "      <td>4</td>\n",
       "      <td>2.29</td>\n",
       "      <td>10.65</td>\n",
       "      <td>61</td>\n",
       "      <td>13</td>\n",
       "      <td>0.093897</td>\n",
       "      <td>65</td>\n",
       "      <td>10</td>\n",
       "      <td>6</td>\n",
       "      <td>3.8</td>\n",
       "      <td>0.94</td>\n",
       "      <td>12</td>\n",
       "      <td>FAI</td>\n",
       "    </tr>\n",
       "    <tr>\n",
       "      <th>4</th>\n",
       "      <td>5</td>\n",
       "      <td>1.61</td>\n",
       "      <td>20.01</td>\n",
       "      <td>28</td>\n",
       "      <td>12</td>\n",
       "      <td>0.049975</td>\n",
       "      <td>70</td>\n",
       "      <td>10</td>\n",
       "      <td>4</td>\n",
       "      <td>2.2</td>\n",
       "      <td>0.65</td>\n",
       "      <td>12</td>\n",
       "      <td>FAI</td>\n",
       "    </tr>\n",
       "  </tbody>\n",
       "</table>\n",
       "</div>"
      ],
      "text/plain": [
       "   rownames  rate    len  adt  trks     sigs1  slim  shld  lane  acpt   itg  \\\n",
       "0         1  4.58   4.99   69     8  0.200401    55    10     8   4.6  1.20   \n",
       "1         2  2.86  16.11   73     8  0.062073    60    10     4   4.4  1.43   \n",
       "2         3  3.02   9.75   49    10  0.102564    60    10     4   4.7  1.54   \n",
       "3         4  2.29  10.65   61    13  0.093897    65    10     6   3.8  0.94   \n",
       "4         5  1.61  20.01   28    12  0.049975    70    10     4   2.2  0.65   \n",
       "\n",
       "   lwid htype  \n",
       "0    12   FAI  \n",
       "1    12   FAI  \n",
       "2    12   FAI  \n",
       "3    12   FAI  \n",
       "4    12   FAI  "
      ]
     },
     "execution_count": 2,
     "metadata": {},
     "output_type": "execute_result"
    }
   ],
   "source": [
    "import pandas as pd, numpy as np\n",
    "import matplotlib.pyplot as plt\n",
    "\n",
    "# Import file as a pandas dataframe\n",
    "df = pd.read_csv(\"https://raw.githubusercontent.com/Eldemelo/Classes/Development/CSC310/Datasets/Highway/Highway1.csv\")\n",
    "df.head()"
   ]
  },
  {
   "cell_type": "code",
   "execution_count": 7,
   "metadata": {},
   "outputs": [
    {
     "data": {
      "text/plain": [
       "<Axes: ylabel='Frequency'>"
      ]
     },
     "execution_count": 7,
     "metadata": {},
     "output_type": "execute_result"
    },
    {
     "data": {
      "image/png": "[encoded data removed]",
      "text/plain": [
       "<Figure size 640x480 with 1 Axes>"
      ]
     },
     "metadata": {},
     "output_type": "display_data"
    }
   ],
   "source": [
    "df['rate'].plot.hist(bins=8)"
   ]
  },
  {
   "cell_type": "markdown",
   "metadata": {},
   "source": [
    "Here we see a histogram showing the general trend of the data for accident rate per million vehicle miles"
   ]
  },
  {
   "cell_type": "code",
   "execution_count": 10,
   "metadata": {},
   "outputs": [
    {
     "data": {
      "text/plain": [
       "<Axes: >"
      ]
     },
     "execution_count": 10,
     "metadata": {},
     "output_type": "execute_result"
    },
    {
     "data": {
      "image/png": "[encoded data removed]",
      "text/plain": [
       "<Figure size 640x480 with 1 Axes>"
      ]
     },
     "metadata": {},
     "output_type": "display_data"
    }
   ],
   "source": [
    "df['rate'].plot.bar()"
   ]
  },
  {
   "cell_type": "markdown",
   "metadata": {},
   "source": [
    "Here we see a bar graph that shows the individual accident rate per million vehicle miles for every variable"
   ]
  }
 ],
 "metadata": {
  "kernelspec": {
   "display_name": "Python 3",
   "language": "python",
   "name": "python3"
  },
  "language_info": {
   "codemirror_mode": {
    "name": "ipython",
    "version": 3
   },
   "file_extension": ".py",
   "mimetype": "text/x-python",
   "name": "python",
   "nbconvert_exporter": "python",
   "pygments_lexer": "ipython3",
   "version": "3.10.6"
  }
 },
 "nbformat": 4,
 "nbformat_minor": 2
}
