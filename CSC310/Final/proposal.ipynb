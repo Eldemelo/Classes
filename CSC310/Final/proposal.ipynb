{
 "cells": [
  {
   "cell_type": "markdown",
   "metadata": {},
   "source": [
    "# Ethan DeMelo\n",
    "\n",
    "## Project 3 - Individual Project: Data Analysis and Modeling\n",
    "\n",
    "### Proposal:"
   ]
  },
  {
   "cell_type": "markdown",
   "metadata": {},
   "source": [
    "This document will discuss the following:\n",
    "<ul>\n",
    "<li >The data set name and some basic characteristics of the data set\n",
    "<ul>\n",
    "<li>How many rows, how many columns, is there a target label, are the variables mostly numerical or categorical - use the describe function\n",
    "<li>Basic summary statistics in the form of histograms and bargraphs\n",
    "</ul>\n",
    "<li>An outline of the proposed analysis.\n",
    "<ul>\n",
    "<li>What question(s) are you trying to answer with your analysis\n",
    "<li>What kind of ML models of the data are you building? Your final project has to include at least one kind of ML model, e.g. classification, regression, or clustering model and you have to tune the model and report the best possible model. For classification and regression model you will need to also report the 95% confidence interval.\n",
    "<li>What kind of results do you expect to see from the analysis\n",
    "</ul>\n",
    "<li>You have to pick a data set different from any of the previous exercises\n",
    "</ul>"
   ]
  },
  {
   "cell_type": "markdown",
   "metadata": {},
   "source": [
    "<b><u>Dataset:</u></b><br>\n",
    "<b>URL</b> https://vincentarelbundock.github.io/Rdatasets/doc/carData/Highway1.html -|- https://vincentarelbundock.github.io/Rdatasets/csv/carData/Highway1.csv<br>\n",
    "<b>Name:</b> Highway Accidents<br>\n",
    "<b>Description:</b> The data comes from a unpublished master's paper by Carl Hoffstedt. They relate the automobile accident rate, in accidents per million vehicle miles to several potential terms. The data include 39 sections of large highways in the state of Minnesota in 1973. The goal of this analysis was to understand the impact of design variables, Acpts, Slim, Sig, and Shld that are under the control of the highway department, on accidents.<br>\n",
    "<b>Rows: </b>39<br>\n",
    "<b>Columns: </b>13<br>\n",
    "<b>Numerical/Categorical: </b>The variables are mostly numerical<br>"
   ]
  },
  {
   "cell_type": "markdown",
   "metadata": {},
   "source": [
    "<b><u>Outline: </u></b><br>\n",
    "<b>Questions: </b>The goal is to understand how design variables impact the safety of highways in Minnesota in 1973<br>\n",
    "<b>Model Type: </b>Regression model<br>\n",
    "<b>Expected Results: </b>Visualize which variable creates the most variance and what the safest and most optimal values are<br>"
   ]
  },
  {
   "cell_type": "markdown",
   "metadata": {},
   "source": [
    "### Basic Summary Statistics | hisograms / bargraphs"
   ]
  },
  {
   "cell_type": "code",
   "execution_count": null,
   "metadata": {
    "vscode": {
     "languageId": "plaintext"
    }
   },
   "outputs": [],
   "source": [
    "import pandas as pd, numpy as np\n",
    "import matplotlib.pyplot as plt\n",
    "\n",
    "# Import file as a pandas dataframe\n",
    "df = pd.read_csv(\"https://raw.githubusercontent.com/Eldemelo/Classes/Development/CSC310/Datasets/wine_quality/winequality-white.csv\", delimiter=';')\n",
    "df\n",
    "df.isnull().sum()"
   ]
  }
 ],
 "metadata": {
  "language_info": {
   "name": "python"
  }
 },
 "nbformat": 4,
 "nbformat_minor": 2
}
