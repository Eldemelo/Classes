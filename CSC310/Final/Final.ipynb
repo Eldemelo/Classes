{
 "cells": [
  {
   "cell_type": "code",
   "execution_count": null,
   "metadata": {},
   "outputs": [],
   "source": [
    "### Final - Individual Project: Data Analysis and Modeling\n",
    "## Ethan DeMelo\n",
    "# 23 July, 2024"
   ]
  }
 ],
 "metadata": {
  "language_info": {
   "name": "python"
  }
 },
 "nbformat": 4,
 "nbformat_minor": 2
}
